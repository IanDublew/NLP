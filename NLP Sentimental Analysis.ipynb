{
  "cells": [
    {
      "cell_type": "code",
      "execution_count": null,
      "id": "1ace4015",
      "metadata": {
        "id": "1ace4015",
        "colab": {
          "base_uri": "https://localhost:8080/"
        },
        "outputId": "64ee8e6f-02e0-457a-c153-4b8739fbd057"
      },
      "outputs": [
        {
          "output_type": "stream",
          "name": "stdout",
          "text": [
            "Collecting abacusai\n",
            "  Downloading abacusai-0.36.4.tar.gz (3.4 MB)\n",
            "\u001b[K     |████████████████████████████████| 3.4 MB 8.6 MB/s \n",
            "\u001b[?25hRequirement already satisfied: packaging in /usr/local/lib/python3.7/dist-packages (from abacusai) (21.3)\n",
            "Requirement already satisfied: requests in /usr/local/lib/python3.7/dist-packages (from abacusai) (2.23.0)\n",
            "Requirement already satisfied: pandas in /usr/local/lib/python3.7/dist-packages (from abacusai) (1.3.5)\n",
            "Collecting fastavro\n",
            "  Downloading fastavro-1.4.11-cp37-cp37m-manylinux_2_17_x86_64.manylinux2014_x86_64.whl (2.3 MB)\n",
            "\u001b[K     |████████████████████████████████| 2.3 MB 27.6 MB/s \n",
            "\u001b[?25hRequirement already satisfied: pyparsing!=3.0.5,>=2.0.2 in /usr/local/lib/python3.7/dist-packages (from packaging->abacusai) (3.0.9)\n",
            "Requirement already satisfied: numpy>=1.17.3 in /usr/local/lib/python3.7/dist-packages (from pandas->abacusai) (1.21.6)\n",
            "Requirement already satisfied: pytz>=2017.3 in /usr/local/lib/python3.7/dist-packages (from pandas->abacusai) (2022.1)\n",
            "Requirement already satisfied: python-dateutil>=2.7.3 in /usr/local/lib/python3.7/dist-packages (from pandas->abacusai) (2.8.2)\n",
            "Requirement already satisfied: six>=1.5 in /usr/local/lib/python3.7/dist-packages (from python-dateutil>=2.7.3->pandas->abacusai) (1.15.0)\n",
            "Requirement already satisfied: urllib3!=1.25.0,!=1.25.1,<1.26,>=1.21.1 in /usr/local/lib/python3.7/dist-packages (from requests->abacusai) (1.24.3)\n",
            "Requirement already satisfied: idna<3,>=2.5 in /usr/local/lib/python3.7/dist-packages (from requests->abacusai) (2.10)\n",
            "Requirement already satisfied: chardet<4,>=3.0.2 in /usr/local/lib/python3.7/dist-packages (from requests->abacusai) (3.0.4)\n",
            "Requirement already satisfied: certifi>=2017.4.17 in /usr/local/lib/python3.7/dist-packages (from requests->abacusai) (2021.10.8)\n",
            "Building wheels for collected packages: abacusai\n",
            "  Building wheel for abacusai (setup.py) ... \u001b[?25l\u001b[?25hdone\n",
            "  Created wheel for abacusai: filename=abacusai-0.36.4-py3-none-any.whl size=134875 sha256=18ed811897c1cbb41635c3378e737b51695a2c9456404c170c6dca1ac48432c2\n",
            "  Stored in directory: /root/.cache/pip/wheels/f5/30/4e/1f7d42e339242d63030a7622906e7377dbaff762bcafa211be\n",
            "Successfully built abacusai\n",
            "Installing collected packages: fastavro, abacusai\n",
            "Successfully installed abacusai-0.36.4 fastavro-1.4.11\n"
          ]
        }
      ],
      "source": [
        "!pip install -U abacusai"
      ]
    },
    {
      "cell_type": "code",
      "execution_count": null,
      "id": "a1d5feac",
      "metadata": {
        "id": "a1d5feac"
      },
      "outputs": [],
      "source": [
        "import collections\n",
        "import threading\n",
        "import time\n",
        "\n",
        "from tqdm import tqdm\n",
        "import numpy as np\n",
        "import IPython.display\n",
        "\n",
        "import abacusai"
      ]
    },
    {
      "cell_type": "markdown",
      "id": "13b5208a",
      "metadata": {
        "id": "13b5208a"
      },
      "source": [
        "# Set up API client and load data"
      ]
    },
    {
      "cell_type": "code",
      "execution_count": null,
      "id": "458ea55a",
      "metadata": {
        "id": "458ea55a"
      },
      "outputs": [],
      "source": [
        "api_key = 'cb48f6c8dc9c4452b6b7a7159896e0f9'\n",
        "server = 'https://abacus.ai'"
      ]
    },
    {
      "cell_type": "code",
      "execution_count": null,
      "id": "95995fa2",
      "metadata": {
        "id": "95995fa2",
        "colab": {
          "base_uri": "https://localhost:8080/"
        },
        "outputId": "ceffdcbb-cdac-44de-fef2-3429179fea8b"
      },
      "outputs": [
        {
          "output_type": "execute_result",
          "data": {
            "text/plain": [
              "<abacusai.client.ApiClient at 0x7f3b9f85c3d0>"
            ]
          },
          "metadata": {},
          "execution_count": 4
        }
      ],
      "source": [
        "api_client = abacusai.ApiClient(api_key=api_key, server=server)\n",
        "api_client"
      ]
    },
    {
      "cell_type": "code",
      "execution_count": null,
      "id": "78b567e6",
      "metadata": {
        "id": "78b567e6",
        "colab": {
          "base_uri": "https://localhost:8080/",
          "height": 337
        },
        "outputId": "1b612cc7-6ac7-4f72-ae5f-687a72c5581c"
      },
      "outputs": [
        {
          "output_type": "execute_result",
          "data": {
            "text/plain": [
              "                                       vehicle_title  \\\n",
              "0  1997 Toyota Previa Minivan LE All-Trac 3dr Min...   \n",
              "1          1997 Toyota Previa Minivan LE 3dr Minivan   \n",
              "2  1997 Toyota Previa Minivan LE All-Trac 3dr Min...   \n",
              "3  1997 Toyota Previa Minivan LE All-Trac 3dr Min...   \n",
              "4  2007 Toyota Avalon Sedan XLS 4dr Sedan (3.5L 6...   \n",
              "\n",
              "                                        review_title  \\\n",
              "0                 my 4th previa, best van ever made!   \n",
              "1                             Mom's Taxi Babies Ride   \n",
              "2                                  Best Minivan ever   \n",
              "3               Final model year of the great Previa   \n",
              "4  I'll drive this car until they take it away fr...   \n",
              "\n",
              "                                              review  \n",
              "0   1st 95 went over 300k before being totalled b...  \n",
              "1   Sold 86 Toyota Van 285K miles to be replaced ...  \n",
              "2   My 1997 AWD Previa is the third one that I ha...  \n",
              "3   An amazing vehicle: mid-engine, supercharged,...  \n",
              "4   Bought this Avy in 2007 used with 1200 miles ...  "
            ],
            "text/html": [
              "\n",
              "  <div id=\"df-e0f63fa9-ba6f-47cf-95a3-ad80685cd50a\">\n",
              "    <div class=\"colab-df-container\">\n",
              "      <div>\n",
              "<style scoped>\n",
              "    .dataframe tbody tr th:only-of-type {\n",
              "        vertical-align: middle;\n",
              "    }\n",
              "\n",
              "    .dataframe tbody tr th {\n",
              "        vertical-align: top;\n",
              "    }\n",
              "\n",
              "    .dataframe thead th {\n",
              "        text-align: right;\n",
              "    }\n",
              "</style>\n",
              "<table border=\"1\" class=\"dataframe\">\n",
              "  <thead>\n",
              "    <tr style=\"text-align: right;\">\n",
              "      <th></th>\n",
              "      <th>vehicle_title</th>\n",
              "      <th>review_title</th>\n",
              "      <th>review</th>\n",
              "    </tr>\n",
              "  </thead>\n",
              "  <tbody>\n",
              "    <tr>\n",
              "      <th>0</th>\n",
              "      <td>1997 Toyota Previa Minivan LE All-Trac 3dr Min...</td>\n",
              "      <td>my 4th previa, best van ever made!</td>\n",
              "      <td>1st 95 went over 300k before being totalled b...</td>\n",
              "    </tr>\n",
              "    <tr>\n",
              "      <th>1</th>\n",
              "      <td>1997 Toyota Previa Minivan LE 3dr Minivan</td>\n",
              "      <td>Mom's Taxi Babies Ride</td>\n",
              "      <td>Sold 86 Toyota Van 285K miles to be replaced ...</td>\n",
              "    </tr>\n",
              "    <tr>\n",
              "      <th>2</th>\n",
              "      <td>1997 Toyota Previa Minivan LE All-Trac 3dr Min...</td>\n",
              "      <td>Best Minivan ever</td>\n",
              "      <td>My 1997 AWD Previa is the third one that I ha...</td>\n",
              "    </tr>\n",
              "    <tr>\n",
              "      <th>3</th>\n",
              "      <td>1997 Toyota Previa Minivan LE All-Trac 3dr Min...</td>\n",
              "      <td>Final model year of the great Previa</td>\n",
              "      <td>An amazing vehicle: mid-engine, supercharged,...</td>\n",
              "    </tr>\n",
              "    <tr>\n",
              "      <th>4</th>\n",
              "      <td>2007 Toyota Avalon Sedan XLS 4dr Sedan (3.5L 6...</td>\n",
              "      <td>I'll drive this car until they take it away fr...</td>\n",
              "      <td>Bought this Avy in 2007 used with 1200 miles ...</td>\n",
              "    </tr>\n",
              "  </tbody>\n",
              "</table>\n",
              "</div>\n",
              "      <button class=\"colab-df-convert\" onclick=\"convertToInteractive('df-e0f63fa9-ba6f-47cf-95a3-ad80685cd50a')\"\n",
              "              title=\"Convert this dataframe to an interactive table.\"\n",
              "              style=\"display:none;\">\n",
              "        \n",
              "  <svg xmlns=\"http://www.w3.org/2000/svg\" height=\"24px\"viewBox=\"0 0 24 24\"\n",
              "       width=\"24px\">\n",
              "    <path d=\"M0 0h24v24H0V0z\" fill=\"none\"/>\n",
              "    <path d=\"M18.56 5.44l.94 2.06.94-2.06 2.06-.94-2.06-.94-.94-2.06-.94 2.06-2.06.94zm-11 1L8.5 8.5l.94-2.06 2.06-.94-2.06-.94L8.5 2.5l-.94 2.06-2.06.94zm10 10l.94 2.06.94-2.06 2.06-.94-2.06-.94-.94-2.06-.94 2.06-2.06.94z\"/><path d=\"M17.41 7.96l-1.37-1.37c-.4-.4-.92-.59-1.43-.59-.52 0-1.04.2-1.43.59L10.3 9.45l-7.72 7.72c-.78.78-.78 2.05 0 2.83L4 21.41c.39.39.9.59 1.41.59.51 0 1.02-.2 1.41-.59l7.78-7.78 2.81-2.81c.8-.78.8-2.07 0-2.86zM5.41 20L4 18.59l7.72-7.72 1.47 1.35L5.41 20z\"/>\n",
              "  </svg>\n",
              "      </button>\n",
              "      \n",
              "  <style>\n",
              "    .colab-df-container {\n",
              "      display:flex;\n",
              "      flex-wrap:wrap;\n",
              "      gap: 12px;\n",
              "    }\n",
              "\n",
              "    .colab-df-convert {\n",
              "      background-color: #E8F0FE;\n",
              "      border: none;\n",
              "      border-radius: 50%;\n",
              "      cursor: pointer;\n",
              "      display: none;\n",
              "      fill: #1967D2;\n",
              "      height: 32px;\n",
              "      padding: 0 0 0 0;\n",
              "      width: 32px;\n",
              "    }\n",
              "\n",
              "    .colab-df-convert:hover {\n",
              "      background-color: #E2EBFA;\n",
              "      box-shadow: 0px 1px 2px rgba(60, 64, 67, 0.3), 0px 1px 3px 1px rgba(60, 64, 67, 0.15);\n",
              "      fill: #174EA6;\n",
              "    }\n",
              "\n",
              "    [theme=dark] .colab-df-convert {\n",
              "      background-color: #3B4455;\n",
              "      fill: #D2E3FC;\n",
              "    }\n",
              "\n",
              "    [theme=dark] .colab-df-convert:hover {\n",
              "      background-color: #434B5C;\n",
              "      box-shadow: 0px 1px 3px 1px rgba(0, 0, 0, 0.15);\n",
              "      filter: drop-shadow(0px 1px 2px rgba(0, 0, 0, 0.3));\n",
              "      fill: #FFFFFF;\n",
              "    }\n",
              "  </style>\n",
              "\n",
              "      <script>\n",
              "        const buttonEl =\n",
              "          document.querySelector('#df-e0f63fa9-ba6f-47cf-95a3-ad80685cd50a button.colab-df-convert');\n",
              "        buttonEl.style.display =\n",
              "          google.colab.kernel.accessAllowed ? 'block' : 'none';\n",
              "\n",
              "        async function convertToInteractive(key) {\n",
              "          const element = document.querySelector('#df-e0f63fa9-ba6f-47cf-95a3-ad80685cd50a');\n",
              "          const dataTable =\n",
              "            await google.colab.kernel.invokeFunction('convertToInteractive',\n",
              "                                                     [key], {});\n",
              "          if (!dataTable) return;\n",
              "\n",
              "          const docLinkHtml = 'Like what you see? Visit the ' +\n",
              "            '<a target=\"_blank\" href=https://colab.research.google.com/notebooks/data_table.ipynb>data table notebook</a>'\n",
              "            + ' to learn more about interactive tables.';\n",
              "          element.innerHTML = '';\n",
              "          dataTable['output_type'] = 'display_data';\n",
              "          await google.colab.output.renderOutput(dataTable, element);\n",
              "          const docLink = document.createElement('div');\n",
              "          docLink.innerHTML = docLinkHtml;\n",
              "          element.appendChild(docLink);\n",
              "        }\n",
              "      </script>\n",
              "    </div>\n",
              "  </div>\n",
              "  "
            ]
          },
          "metadata": {},
          "execution_count": 6
        }
      ],
      "source": [
        "feature_group = api_client.describe_feature_group('db7bebb20')\n",
        "data = feature_group.load_as_pandas()\n",
        "data.head()"
      ]
    },
    {
      "cell_type": "markdown",
      "id": "0935f2f8",
      "metadata": {
        "id": "0935f2f8"
      },
      "source": [
        "# Get predictions from sentiment model"
      ]
    },
    {
      "cell_type": "code",
      "execution_count": null,
      "id": "3ec2ade2",
      "metadata": {
        "id": "3ec2ade2",
        "colab": {
          "base_uri": "https://localhost:8080/"
        },
        "outputId": "76eeadaf-1b77-4e3c-d265-f096b216bd92"
      },
      "outputs": [
        {
          "output_type": "execute_result",
          "data": {
            "text/plain": [
              "{'negative': 0.6472374200820923,\n",
              " 'neutral': 0.26365625858306885,\n",
              " 'positive': 0.08910632133483887}"
            ]
          },
          "metadata": {},
          "execution_count": 8
        }
      ],
      "source": [
        "# Replace this code with code in predictions API screen\n",
        "\n",
        "from abacusai import PredictionClient\n",
        "client = PredictionClient()\n",
        "client.get_sentiment(deployment_token='29041948bd68483f93dd15ff27834400', deployment_id='d9010610', document=\" Toyotas will run forever and hybrid design is solid.The car is quiet and the seats are great.The interior build quality is terrible however.My headliner warped in the first 4K miles, the dash creaks and pops when you hit a dump and the door panels also creak constantly.A happy customer tells four people about their experience and unhappy customer tells 10 people.The crappy part is I have to sell it at a loss to buy the ford fusion.My gut told me to go with the ford and I should have followed it.\")"
      ]
    },
    {
      "cell_type": "code",
      "execution_count": null,
      "id": "fd4c041f",
      "metadata": {
        "id": "fd4c041f"
      },
      "outputs": [],
      "source": [
        "sent_deployment_token = '29041948bd68483f93dd15ff27834400'\n",
        "sent_deployment_id = 'd9010610'"
      ]
    },
    {
      "cell_type": "code",
      "execution_count": null,
      "id": "a7746606",
      "metadata": {
        "id": "a7746606",
        "colab": {
          "base_uri": "https://localhost:8080/"
        },
        "outputId": "0a3e1c01-9c29-4902-eb9f-e0841c1f4b79"
      },
      "outputs": [
        {
          "output_type": "stream",
          "name": "stderr",
          "text": [
            "100%|██████████| 100/100 [01:22<00:00,  1.21it/s]\n"
          ]
        }
      ],
      "source": [
        "tqdm._instances.clear()\n",
        "sample_texts = data['review'][:100]\n",
        "sentiments = [\n",
        "    client.get_sentiment(\n",
        "        deployment_token=sent_deployment_token,\n",
        "        deployment_id=sent_deployment_id,\n",
        "        document=text\n",
        "    )\n",
        "    for text in tqdm(sample_texts)\n",
        "]"
      ]
    },
    {
      "cell_type": "code",
      "execution_count": null,
      "id": "b4aae3d8",
      "metadata": {
        "id": "b4aae3d8",
        "colab": {
          "base_uri": "https://localhost:8080/"
        },
        "outputId": "4aceb52b-ccbb-45d9-9a07-8d66e1393b99"
      },
      "outputs": [
        {
          "output_type": "stream",
          "name": "stdout",
          "text": [
            "Top scoring texts for: \"positive\"\n",
            "\n",
            "0.9862262010574341\n",
            " Nice car for the money. Bought at CarMax in Laural, MD. They gave me $3000 off MSRP. Worth every penny~Drove it back home to PA and avg 28 mpg on the trip. Avg'ing 24 in mixed driving. Very sporty to drive, roomy, gorgeous interior, seats were a little hard but everything else was spot on.Love this car!I researched cars in the $33000 - $35,000 price range with NO cvt trannsmission and this was easily the best car in the price range. I test drove them all. The Honda Accord Touring was my 2nd fav.\n",
            "\n",
            "0.9783399701118469\n",
            " One of the best vehicles I've ever owned.  We bought a 2013 white Toyota Avalon Limited in 2016 and we are very happy with our purchase.  For the money, the Avalon provides a nice luxurious feel with the refined leather interior and sleek dashboard.  Very smart technology package. The redesigned exterior, and in particular, the rear of the car give it a very fancy and sleek look.  My wife and I are in our late 20's and early 30's range, and we love this car!         CONS: A bit of a rough ride when driving over potholes and uneven/unpaved roads.  The struts and suspension could use some re-engineering for future models.\n",
            "\n",
            "0.9778108596801758\n",
            " I love my 09 Avalon.  I use to buy nothing but Lincolns and switched over to Avalon in 2004, this was the best vehicle i have ever driven in the 40 so what years of driving.  For some reason the 04 overpowered all the vehicles i have driven.  I try to trade every three years to keep my cost value up.  I have been driving my 09 now for for 19 months now and love it.  I m getting anxious to see what the next new model year design is like and if i like it ill be trading in a flash!  Keep up the good work Toyota!\n",
            "\n",
            "0.976437509059906\n",
            " I purchased the new Limited for a recent trip to the Southeast.The car's performance was wonderful and very comfortable for the long haul.The bonus features were the navigation system and blind spot warning system.Stereo system was awesome.I especially appreciated the comforts of adjustable ventilated/heated seats and lumbard/thigh support.We loaded the car with golf clubs and three larger suitcases with room to spare. Great handling/ride/responsiveness.Our trip was around 3300 miles and averaged 31.0 MPG - in combined driving - fully loaded.This was somewhat surprizing, as the lowest MPG was 27, when climbing into higher elevations.Great Toyota- great ride. \n",
            "\n",
            "0.9721889495849609\n",
            " This Avalon has been the best car I have ever owned.  I have had it more than a year now and bought it used but still have had no problems.  It is smooth, luxurious, and every day I drive it I find myself surprised by one of the Avalon's many features.  Someone put great thought into designing this car from the automatic wipers to the 110 power plug this car is perfect.  I get 21 mpg on average but it is worth the extra $2 a week to drive such a fantastic piece of machinery.  I'm 26 and thought this car was an 'old man car' but after driving it I will not drive anything else.  Thanks Toyota!\n",
            "\n"
          ]
        }
      ],
      "source": [
        "query = 'positive'\n",
        "print(f'Top scoring texts for: \"{query}\"\\n')\n",
        "scores = [s[query] for s in sentiments]\n",
        "arg_sort = np.argsort(-np.array(scores))\n",
        "for i in arg_sort[:5]:\n",
        "    print(scores[i])\n",
        "    print(sample_texts[i])\n",
        "    print('')"
      ]
    },
    {
      "cell_type": "code",
      "execution_count": null,
      "id": "30a99586",
      "metadata": {
        "id": "30a99586",
        "colab": {
          "base_uri": "https://localhost:8080/"
        },
        "outputId": "a6b038d3-a972-4cb1-8f76-c26e858801f8"
      },
      "outputs": [
        {
          "output_type": "stream",
          "name": "stdout",
          "text": [
            "Top scoring texts for: \"negative\"\n",
            "\n",
            "0.9304124116897583\n",
            " The Seating comfort is AWFUL, plastic backs of front seats are broken/dealer doesn't have parts for recall, the sound system is awful, the MPG is poor, the original low profile tires are awful in rain or light snow, ride is awful, the front air dam has been replaced and repaired TWICE $1,100 AND $ 1,900 BECAUSE OF LOW CLEARANCE breakage, tire pressure monitor is inadequate plus doesn't show actual tire psi pressures, need to add air in front tires weekly but tire store can't find leaks, battery poor for wintertime, gas gage reads 3-4 gallons off, speedometer differs from digital readout by 3-4 mph, cruse control slows 4-5 mph up hills and speeds up 10-12 mph down hill, seat padding is thin and lumpy, seats don't slide back far enough for tall driver, air conditioning inadequate above 85 degrees,\n",
            "\n",
            "0.9292107224464417\n",
            " The vehicle is smooth once you get cruising at about 60mph. However, staring from a start there is a hesitation which causes you to almost lunge forward. The roof molding has loosened and almost come off. The transmission is sloppy and flops around both up and down as you accel and decel. The electronics is from the year 2000. And, the GPS is the worst that there is! The GPS is very outdated and has very limited POI's. The voice command is a joke and now the GPS has started locking up on me. I am waiting for the dealer to get back to me on that. The stereo unit in the car is just average. This is not the car I bargained for at all. After 4 months of driving it I am sorry I bought it.\n",
            "\n",
            "0.9236306548118591\n",
            " I am disappointed in their flagship. It has lots of wind noise.  The DRONE of the tires is very prevalent.  The driving position is the worst. I'm 6.0, the seats are uncomfortable and very hard.  Not a lot of leg room for the driver. COMFORT and AVALON are never USED in the same sentence!!!  This car is 95% Camry.  A factory employee told me, they don't want you to be satisfied.  WHY? So they can sell you a Lexus.  Transmission 2nd gear jerks every time it shifts, it won't shift down when it needs too.  The factory puts one coat on the bottom of the car for sound reduction, rust.  They started out putting 5 coats.  It is all about saving $$$ at the consumer's expense.  The car is reliable, BUT!!!\n",
            "\n",
            "0.9224035739898682\n",
            " Before buying this car I heard great things about Toyota vehicles from friends and family, so I decided hey I have to get one for myself.  What a joke, this car makes me sick!!! It has a very loud noise in the engine. I have taken it in too many times only to be told by the mechanic that he does not hear the noise. These guys must be deaf!!! The last mechanic told me that the noise is normal that the sound was in other cars he tested?! Transmission horrible to say the least not smooth at all. Sound system cannot be heard over noisy engine, brakes are terrible, problem with wipers, in all one of the worse vehicles I have ever owned. I can't wait to get rid of it!!!!!!\n",
            "\n",
            "0.9205203652381897\n",
            " Love the car, hate having Toyota as my mom.  The limitation of the navigation system are stupid.  Having to acknowledge \"I accept\" everytime you start the car is ridiculous.  But even more annoying is that your passengers cannot program the nav system while the car is in motion.  Driving down the road with my wife we decide we want to get something to eat. Toyota makes you pull to the side of the freeway and stop (endangering life and property) and then do your navigation.  By the time you work this out you can drive through most towns and find a place to eat without the navigation system.   The lack of an aux input for the stereo system in this day and age is just plain dumb.\n",
            "\n"
          ]
        }
      ],
      "source": [
        "query = 'negative'\n",
        "print(f'Top scoring texts for: \"{query}\"\\n')\n",
        "scores = [s[query] for s in sentiments]\n",
        "arg_sort = np.argsort(-np.array(scores))\n",
        "for i in arg_sort[:5]:\n",
        "    print(scores[i])\n",
        "    print(sample_texts[i])\n",
        "    print('')"
      ]
    },
    {
      "cell_type": "code",
      "execution_count": null,
      "id": "28ff9381",
      "metadata": {
        "id": "28ff9381",
        "colab": {
          "base_uri": "https://localhost:8080/"
        },
        "outputId": "b2a92102-48ea-4665-c0f7-7dc744b95ab0"
      },
      "outputs": [
        {
          "output_type": "stream",
          "name": "stdout",
          "text": [
            "Top scoring texts for: \"neutral\"\n",
            "\n",
            "0.538830578327179\n",
            " We've had our Avalon for about a year and a half now and have been satisfied.We've had Toyota's since 1989.At 65k, front brake rotors warped & pads needed replacing - at 68k, the rear rotors & pads got replaced.At 70k, inner tie rods got loose and got replaced.We're holding our breath and wondering what's going to be next.Of course, this is the first Toyota that we've kept beyond the 36k mark, so perhaps this brand isn't as reliable as we've always thought?Although we'd hesitate to say this Avalon is a lemon, we've planned on its lasting 10 years...wish us luck.\n",
            "\n",
            "0.4767228662967682\n",
            " Over all, good car.When started in the morning and accelerating up the hill where I live, makes a sound like the old valve lifter lash before hydraulic valve lifters.2nd problem is the starter would not rotate when first pushing starter button, but did on susequent trys.Found 1/2 x 2 inch corosion under the cover on the positive post of the battery and cable.Toyota replaced altenator with rebult one and replaced cable connector.Similiar problem about 3 weeks later.Replaced termial connector again. 3 weeks later now and begining to corrode again.\n",
            "\n",
            "0.45877012610435486\n",
            " I just got the 2015 limited in year end clearance; I got the best price for the best car.  I test BMW 3 series, Cadillac ATS, Buick Regal and Lacrosse. I found Avalon limited on the top line in term of luxury, tech, stylish, smooth and quiet on free way on par with Lacrosse but better tech, gas mileage, expect more reliable than Lacrosse.  But I was disappointed a bid on free way, I don't much wind but tire sound with the road on the 18' wheel.  The Avalon has plenty of power though it has only 268 hp and 248 torque compared to 3 series, regal, lacrosse, ATS are more power and torque but I did not feel much different.  The ATS, Regal, and 3 Series are good for quick move and corner but more windy on freeway when Lacrosse on the to ride on freeway-- smooth, quiet, and balance due to its heavy weight 4000lb vs Avalon 3560lb but 18city/28 hwy vs 21city/31 hwy.  Quality, luxury, stylish, and bargain price at the end of the year make me to pick Avalon limited over the rest.\n",
            "\n",
            "0.45554545521736145\n",
            " I bought this car after doing a lot of research and was initially quite happy with it.  Over the 15 months that I had it, it was in the shop twice for rattles, and twice to have the oxygen sensor issue fixed, for a total of about 7 or 8 days without the car, most was related to the sensors. It had another annoying rattle in the dash when I got rid of it.   These may have all started after I had XM added to the car, but that doesn't make the rattles go away.   I traded it in for a non-Toyota vehicle after 6500 miles. \n",
            "\n",
            "0.43161866068840027\n",
            " Front passenger upholstery detached underneath seat and would not stay attached when clipped back in place. I finally placed three paper clip clamps on the edge which have kept them in place. The back to one of the front seats detached and would not reattach. The dealership replaced both backs to the front seats as a factory defect at no cost to me. The plastic frame around the edge of the front passenger seat has now detached and will not reattach. I plan to again see if the dealer will help me on this issue. This 2013 Avalon now has a little over 18,000 miles. I shutter to think what shape these seats will be in at 180,000 miles.\n",
            "\n"
          ]
        }
      ],
      "source": [
        "query = 'neutral'\n",
        "print(f'Top scoring texts for: \"{query}\"\\n')\n",
        "scores = [s[query] for s in sentiments]\n",
        "arg_sort = np.argsort(-np.array(scores))\n",
        "for i in arg_sort[:5]:\n",
        "    print(scores[i])\n",
        "    print(sample_texts[i])\n",
        "    print('')"
      ]
    },
    {
      "cell_type": "markdown",
      "id": "d76674c2",
      "metadata": {
        "id": "d76674c2"
      },
      "source": [
        "# Create a classification model"
      ]
    },
    {
      "cell_type": "code",
      "execution_count": null,
      "id": "c79d4303",
      "metadata": {
        "id": "c79d4303",
        "colab": {
          "base_uri": "https://localhost:8080/",
          "height": 252
        },
        "outputId": "5bd6df0b-6cb3-4ade-c281-a0522f4c5866"
      },
      "outputs": [
        {
          "output_type": "stream",
          "name": "stdout",
          "text": [
            "Creating project\n"
          ]
        },
        {
          "output_type": "error",
          "ename": "NameError",
          "evalue": "ignored",
          "traceback": [
            "\u001b[0;31m---------------------------------------------------------------------------\u001b[0m",
            "\u001b[0;31mNameError\u001b[0m                                 Traceback (most recent call last)",
            "\u001b[0;32m<ipython-input-2-6ea3b8555224>\u001b[0m in \u001b[0;36m<module>\u001b[0;34m()\u001b[0m\n\u001b[1;32m      1\u001b[0m \u001b[0mprint\u001b[0m\u001b[0;34m(\u001b[0m\u001b[0;34m'Creating project'\u001b[0m\u001b[0;34m)\u001b[0m\u001b[0;34m\u001b[0m\u001b[0;34m\u001b[0m\u001b[0m\n\u001b[0;32m----> 2\u001b[0;31m \u001b[0mclass_project\u001b[0m \u001b[0;34m=\u001b[0m \u001b[0mapi_client\u001b[0m\u001b[0;34m.\u001b[0m\u001b[0mcreate_project\u001b[0m\u001b[0;34m(\u001b[0m\u001b[0;34m'nlp_classification'\u001b[0m\u001b[0;34m,\u001b[0m \u001b[0muse_case\u001b[0m\u001b[0;34m=\u001b[0m\u001b[0;34m'NLP_CLASSIFICATION'\u001b[0m\u001b[0;34m)\u001b[0m\u001b[0;34m\u001b[0m\u001b[0;34m\u001b[0m\u001b[0m\n\u001b[0m\u001b[1;32m      3\u001b[0m \u001b[0;34m\u001b[0m\u001b[0m\n\u001b[1;32m      4\u001b[0m api_client.add_feature_group_to_project(\n\u001b[1;32m      5\u001b[0m     \u001b[0mfeature_group_id\u001b[0m\u001b[0;34m=\u001b[0m\u001b[0mfeature_group\u001b[0m\u001b[0;34m,\u001b[0m \u001b[0mproject_id\u001b[0m\u001b[0;34m=\u001b[0m\u001b[0mclass_project\u001b[0m\u001b[0;34m,\u001b[0m \u001b[0mfeature_group_type\u001b[0m\u001b[0;34m=\u001b[0m\u001b[0;34m'DOCUMENTS'\u001b[0m\u001b[0;34m\u001b[0m\u001b[0;34m\u001b[0m\u001b[0m\n",
            "\u001b[0;31mNameError\u001b[0m: name 'api_client' is not defined"
          ]
        }
      ],
      "source": [
        "print('Creating project')\n",
        "class_project = api_client.create_project('nlp_classification', use_case='NLP_CLASSIFICATION')\n",
        "\n",
        "api_client.add_feature_group_to_project(\n",
        "    feature_group_id=feature_group, project_id=class_project, feature_group_type='DOCUMENTS'\n",
        ")\n",
        "\n",
        "class_project.set_feature_mapping(\n",
        "    feature_group_id=feature_group,\n",
        "    feature_name='review',\n",
        "    feature_mapping='DOCUMENT',\n",
        ")\n",
        "\n",
        "print('Training model')\n",
        "class_model = class_project.train_model(\n",
        "    name='classification_model_1',\n",
        "    training_config={\n",
        "        'zero_shot_hypotheses': [\n",
        "            'This text is about car speed / acceleration / slowness',\n",
        "            'This text is about car price / cost / value for money',\n",
        "            'This text is about car build quality',\n",
        "            'This text is about car seats',\n",
        "        ]\n",
        "    }\n",
        ")\n",
        "\n",
        "class_model = class_model.wait_for_full_automl()\n",
        "print('Deploying model')\n",
        "class_deployment = api_client.create_deployment(model_id=class_model)\n",
        "class_deployment = class_deployment.wait_for_deployment()\n",
        "class_deployment_token = class_project.list_deployment_tokens()[0]\n",
        "class_deployment_id = class_deployment.deployment_id\n",
        "\n",
        "print('Model deployed')"
      ]
    },
    {
      "cell_type": "code",
      "execution_count": null,
      "id": "69a3c102",
      "metadata": {
        "id": "69a3c102"
      },
      "outputs": [],
      "source": [
        "print('Testing prediction')\n",
        "client.get_classification(\n",
        "    deployment_token=class_deployment_token,\n",
        "    deployment_id=class_deployment_id,\n",
        "    document=\"This car is a bargain.\"\n",
        ")\n",
        "\n",
        "sample_texts = data['review'][:100]\n",
        "text_classifications = []\n",
        "\n",
        "text_to_prediction = {}\n",
        "\n",
        "print('Producing predictions')\n",
        "\n",
        "# Produce predictions in the background so we can do some analysis straight away\n",
        "\n",
        "def process_data(texts):\n",
        "    for text in texts:\n",
        "        text_to_prediction[text] = client.get_classification(\n",
        "            deployment_token=class_deployment_token,\n",
        "            deployment_id=class_deployment_id,\n",
        "            document=text,\n",
        "        )\n",
        "        \n",
        "thread = threading.Thread(target=process_data, args=(sample_texts,))\n",
        "thread.start()\n",
        "\n",
        "while len(text_to_prediction) < 20:\n",
        "    IPython.display.clear_output(wait=True)\n",
        "    print(f'Predictions produced so far: {len(text_to_prediction)}')\n",
        "    time.sleep(1)\n",
        "print('Example prediction:')\n",
        "list(text_to_prediction.values())[0]"
      ]
    },
    {
      "cell_type": "code",
      "execution_count": null,
      "id": "d8acbf22",
      "metadata": {
        "id": "d8acbf22"
      },
      "outputs": [],
      "source": [
        "predictions = []\n",
        "for text in sample_texts:\n",
        "    if text not in text_to_prediction:\n",
        "        break\n",
        "    else:\n",
        "        predictions.append(text_to_prediction[text])\n",
        "print(f'Predictions made so far: {len(predictions)}\\n')\n",
        "query = list(predictions[0].keys())[1]\n",
        "print(f'Top scoring texts for: \"{query}\"\\n')\n",
        "scores = [s[query] for s in predictions]\n",
        "arg_sort = np.argsort(-np.array(scores))\n",
        "for i in arg_sort[:5]:\n",
        "    print(f'Score = {scores[i]}')\n",
        "    print(sample_texts[i])\n",
        "    print('')"
      ]
    },
    {
      "cell_type": "markdown",
      "id": "f2973945",
      "metadata": {
        "id": "f2973945"
      },
      "source": [
        "# Build a named entity recognition (NER) model"
      ]
    },
    {
      "cell_type": "code",
      "execution_count": null,
      "id": "645be391",
      "metadata": {
        "id": "645be391",
        "colab": {
          "base_uri": "https://localhost:8080/",
          "height": 235
        },
        "outputId": "afe5fa4d-4349-4e3b-f99b-4f8710423032"
      },
      "outputs": [
        {
          "output_type": "error",
          "ename": "NameError",
          "evalue": "ignored",
          "traceback": [
            "\u001b[0;31m---------------------------------------------------------------------------\u001b[0m",
            "\u001b[0;31mNameError\u001b[0m                                 Traceback (most recent call last)",
            "\u001b[0;32m<ipython-input-1-6b8ccb21d2e3>\u001b[0m in \u001b[0;36m<module>\u001b[0;34m()\u001b[0m\n\u001b[0;32m----> 1\u001b[0;31m \u001b[0mner_project\u001b[0m \u001b[0;34m=\u001b[0m \u001b[0mapi_client\u001b[0m\u001b[0;34m.\u001b[0m\u001b[0mcreate_project\u001b[0m\u001b[0;34m(\u001b[0m\u001b[0;34m'named_entity_recognition'\u001b[0m\u001b[0;34m,\u001b[0m \u001b[0muse_case\u001b[0m\u001b[0;34m=\u001b[0m\u001b[0;34m'NAMED_ENTITY_RECOGNITION'\u001b[0m\u001b[0;34m)\u001b[0m\u001b[0;34m\u001b[0m\u001b[0;34m\u001b[0m\u001b[0m\n\u001b[0m\u001b[1;32m      2\u001b[0m \u001b[0;34m\u001b[0m\u001b[0m\n\u001b[1;32m      3\u001b[0m api_client.add_feature_group_to_project(\n\u001b[1;32m      4\u001b[0m     \u001b[0mfeature_group_id\u001b[0m\u001b[0;34m=\u001b[0m\u001b[0mfeature_group\u001b[0m\u001b[0;34m,\u001b[0m \u001b[0mproject_id\u001b[0m\u001b[0;34m=\u001b[0m\u001b[0mner_project\u001b[0m\u001b[0;34m,\u001b[0m \u001b[0mfeature_group_type\u001b[0m\u001b[0;34m=\u001b[0m\u001b[0;34m'DOCUMENTS'\u001b[0m\u001b[0;34m\u001b[0m\u001b[0;34m\u001b[0m\u001b[0m\n\u001b[1;32m      5\u001b[0m )\n",
            "\u001b[0;31mNameError\u001b[0m: name 'api_client' is not defined"
          ]
        }
      ],
      "source": [
        "ner_project = api_client.create_project('named_entity_recognition', use_case='NAMED_ENTITY_RECOGNITION')\n",
        "\n",
        "api_client.add_feature_group_to_project(\n",
        "    feature_group_id=feature_group, project_id=ner_project, feature_group_type='DOCUMENTS'\n",
        ")\n",
        "\n",
        "ner_project.set_feature_mapping(\n",
        "    feature_group_id=feature_group,\n",
        "    feature_name='review',\n",
        "    feature_mapping='DOCUMENT',\n",
        ")\n",
        "\n",
        "ner_model = ner_project.train_model(\n",
        "    name='ner_model_1',\n",
        "    training_config={'NER_MODEL_TYPE': \"pretrained uncased 43 categories\"}\n",
        ")\n",
        "\n",
        "ner_model.wait_for_full_automl()\n",
        "\n",
        "ner_deployment = api_client.create_deployment(model_id=ner_model)\n",
        "\n",
        "ner_deployment = ner_deployment.wait_for_deployment()\n",
        "\n",
        "ner_deployment_token = ner_project.list_deployment_tokens()[0]\n",
        "\n",
        "ner_deployment_id = ner_deployment.deployment_id\n",
        "ner_deployment_token = ner_deployment_token\n",
        "\n",
        "client.get_labels(deployment_token=ner_deployment_token, deployment_id=ner_deployment_id, query_data={\"content\":\"I love my Toyota Camry!\"})"
      ]
    },
    {
      "cell_type": "code",
      "execution_count": null,
      "id": "17ed4a48",
      "metadata": {
        "id": "17ed4a48"
      },
      "outputs": [],
      "source": [
        "tqdm._instances.clear()\n",
        "sample_texts = data['review'][:100]\n",
        "annotations = [\n",
        "    client.get_labels(deployment_token=ner_deployment_token, deployment_id=ner_deployment_id, query_data={'content': text})['annotations']\n",
        "    for text in tqdm(sample_texts)\n",
        "]"
      ]
    },
    {
      "cell_type": "code",
      "execution_count": null,
      "id": "6aba53fd",
      "metadata": {
        "id": "6aba53fd"
      },
      "outputs": [],
      "source": [
        "label_counts = collections.Counter([anno['displayName'] for anno_list in annotations for anno in anno_list])\n",
        "label_counts.most_common(10)"
      ]
    },
    {
      "cell_type": "code",
      "execution_count": null,
      "id": "1411db68",
      "metadata": {
        "id": "1411db68"
      },
      "outputs": [],
      "source": [
        "product_counts = collections.Counter([anno['textExtraction']['textSegment']['phrase'].strip().lower()\n",
        "                                      for anno_list in annotations for anno in anno_list if anno['displayName'] == 'product'])\n",
        "product_counts.most_common(10)"
      ]
    },
    {
      "cell_type": "markdown",
      "id": "d70bd419",
      "metadata": {
        "id": "d70bd419"
      },
      "source": [
        "# Combined analysis using multiple models"
      ]
    },
    {
      "cell_type": "code",
      "execution_count": null,
      "id": "b460b843",
      "metadata": {
        "id": "b460b843"
      },
      "outputs": [],
      "source": [
        "# Filter using NER\n",
        "\n",
        "filtered_texts = [\n",
        "    text\n",
        "    for text, anno_list in zip(sample_texts, annotations)\n",
        "    if any([anno['displayName'] == 'product' and 'avalon' in anno['textExtraction']['textSegment']['phrase'].strip().lower()\n",
        "           for anno in anno_list])\n",
        "]\n",
        "len(filtered_texts)"
      ]
    },
    {
      "cell_type": "code",
      "execution_count": null,
      "id": "b2a30bde",
      "metadata": {
        "id": "b2a30bde"
      },
      "outputs": [],
      "source": [
        "# See top scores after the filter\n",
        "\n",
        "predictions = []\n",
        "for text in filtered_texts:\n",
        "    if text not in text_to_prediction:\n",
        "        break\n",
        "    else:\n",
        "        predictions.append(text_to_prediction[text])\n",
        "query = list(predictions[0].keys())[1]\n",
        "print(f'Top scoring texts for: \"{query}\"\\n')\n",
        "scores = [s[query] for s in predictions]\n",
        "arg_sort = np.argsort(-np.array(scores))\n",
        "for i in arg_sort[:5]:\n",
        "    print(scores[i])\n",
        "    print(filtered_texts[i])\n",
        "    print('')"
      ]
    }
  ],
  "metadata": {
    "kernelspec": {
      "display_name": "Python 3 (ipykernel)",
      "language": "python",
      "name": "python3"
    },
    "language_info": {
      "codemirror_mode": {
        "name": "ipython",
        "version": 3
      },
      "file_extension": ".py",
      "mimetype": "text/x-python",
      "name": "python",
      "nbconvert_exporter": "python",
      "pygments_lexer": "ipython3",
      "version": "3.8.10"
    },
    "colab": {
      "name": "Copy of 2022-05-17-abacus-nlp-workshop.ipynb",
      "provenance": [],
      "collapsed_sections": []
    }
  },
  "nbformat": 4,
  "nbformat_minor": 5
}